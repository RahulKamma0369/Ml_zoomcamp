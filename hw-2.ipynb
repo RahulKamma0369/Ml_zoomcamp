{
 "cells": [
  {
   "cell_type": "code",
   "execution_count": 24,
   "id": "587761e2",
   "metadata": {},
   "outputs": [],
   "source": [
    "import pandas as pd\n",
    "import numpy as np"
   ]
  },
  {
   "cell_type": "code",
   "execution_count": 6,
   "id": "967fcdae",
   "metadata": {},
   "outputs": [],
   "source": [
    "data = pd.read_csv(\"https://raw.githubusercontent.com/alexeygrigorev/datasets/master/car_fuel_efficiency.csv\")"
   ]
  },
  {
   "cell_type": "code",
   "execution_count": 20,
   "id": "bd3aab0f",
   "metadata": {},
   "outputs": [
    {
     "data": {
      "text/plain": [
       "Index(['num_cylinders', 'horsepower', 'acceleration', 'num_doors'], dtype='object')"
      ]
     },
     "execution_count": 20,
     "metadata": {},
     "output_type": "execute_result"
    }
   ],
   "source": [
    "data.columns[data.isnull().any()]"
   ]
  },
  {
   "cell_type": "code",
   "execution_count": 21,
   "id": "2ad5ed79",
   "metadata": {},
   "outputs": [
    {
     "data": {
      "text/plain": [
       "np.float64(149.0)"
      ]
     },
     "execution_count": 21,
     "metadata": {},
     "output_type": "execute_result"
    }
   ],
   "source": [
    "data['horsepower'].median()"
   ]
  },
  {
   "cell_type": "code",
   "execution_count": 30,
   "id": "ecbcf4ae",
   "metadata": {},
   "outputs": [],
   "source": [
    "n = len(data)\n",
    "n_val = int(n*0.2)\n",
    "n_test = int(n*0.2)\n",
    "n_train = n-n_val-n_test"
   ]
  },
  {
   "cell_type": "code",
   "execution_count": 37,
   "id": "15e916f3",
   "metadata": {},
   "outputs": [
    {
     "data": {
      "text/plain": [
       "(5824, 1940, 1940)"
      ]
     },
     "execution_count": 37,
     "metadata": {},
     "output_type": "execute_result"
    }
   ],
   "source": [
    "n_train,n_val,n_test"
   ]
  },
  {
   "cell_type": "code",
   "execution_count": 38,
   "id": "69583b39",
   "metadata": {},
   "outputs": [],
   "source": [
    "idx = np.arange(n)\n",
    "np.random.seed(42)\n",
    "np.random.shuffle(idx)"
   ]
  },
  {
   "cell_type": "code",
   "execution_count": 39,
   "id": "8a44901d",
   "metadata": {},
   "outputs": [
    {
     "data": {
      "text/plain": [
       "(9704, 9704)"
      ]
     },
     "execution_count": 39,
     "metadata": {},
     "output_type": "execute_result"
    }
   ],
   "source": [
    "n, n_train+n_val+n_test"
   ]
  },
  {
   "cell_type": "code",
   "execution_count": 40,
   "id": "a848a987",
   "metadata": {},
   "outputs": [],
   "source": [
    "df_train = data.iloc[idx[:n_train]]\n",
    "df_val = data.iloc[idx[n_train:n_train+n_val]]\n",
    "df_test = data.iloc[idx[n_train+n_val:]]"
   ]
  },
  {
   "cell_type": "code",
   "execution_count": 41,
   "id": "dfe39ddb",
   "metadata": {},
   "outputs": [
    {
     "data": {
      "text/plain": [
       "(5824, 1940, 1940)"
      ]
     },
     "execution_count": 41,
     "metadata": {},
     "output_type": "execute_result"
    }
   ],
   "source": [
    "len(df_train), len(df_val), len(df_test)"
   ]
  },
  {
   "cell_type": "code",
   "execution_count": 42,
   "id": "9e900022",
   "metadata": {},
   "outputs": [],
   "source": [
    "target = 'fuel_efficiency_mpg'\n",
    "features = ['engine_displacement', 'horsepower', 'vehicle_weight', 'model_year']"
   ]
  },
  {
   "cell_type": "code",
   "execution_count": 49,
   "id": "93e5b199",
   "metadata": {},
   "outputs": [],
   "source": [
    "from sklearn.linear_model import LinearRegression\n",
    "from sklearn.metrics import mean_squared_error"
   ]
  },
  {
   "cell_type": "code",
   "execution_count": 43,
   "id": "3bb7d371",
   "metadata": {},
   "outputs": [],
   "source": [
    "train_0 = df_train.copy()\n",
    "val_0 = df_val.copy()\n",
    "train_0['horsepower'] = train_0['horsepower'].fillna(0)\n",
    "val_0['horsepower'] = val_0['horsepower'].fillna(0)"
   ]
  },
  {
   "cell_type": "code",
   "execution_count": 44,
   "id": "751e5f2d",
   "metadata": {},
   "outputs": [],
   "source": [
    "mean_hp = df_train['horsepower'].mean()\n",
    "train_mean = df_train.copy()\n",
    "val_mean = df_val.copy()\n",
    "train_mean['horsepower'] = train_mean['horsepower'].fillna(mean_hp)\n",
    "val_mean['horsepower'] = val_mean['horsepower'].fillna(mean_hp)"
   ]
  },
  {
   "cell_type": "code",
   "execution_count": 50,
   "id": "f8697b73",
   "metadata": {},
   "outputs": [],
   "source": [
    "def train_and_evaluate(train_df, val_df):\n",
    "    model = LinearRegression()\n",
    "    X_train = train_df[features]\n",
    "    y_train = train_df[target]\n",
    "    X_val = val_df[features]\n",
    "    y_val = val_df[target]\n",
    "\n",
    "    model.fit(X_train, y_train)\n",
    "    preds = model.predict(X_val)\n",
    "    rmse = mean_squared_error(y_val, preds, squared=False)\n",
    "    return rmse\n"
   ]
  },
  {
   "cell_type": "code",
   "execution_count": 51,
   "id": "bce080b2",
   "metadata": {},
   "outputs": [
    {
     "name": "stderr",
     "output_type": "stream",
     "text": [
      "/Library/Frameworks/Python.framework/Versions/3.12/lib/python3.12/site-packages/sklearn/metrics/_regression.py:492: FutureWarning: 'squared' is deprecated in version 1.4 and will be removed in 1.6. To calculate the root mean squared error, use the function'root_mean_squared_error'.\n",
      "  warnings.warn(\n",
      "/Library/Frameworks/Python.framework/Versions/3.12/lib/python3.12/site-packages/sklearn/metrics/_regression.py:492: FutureWarning: 'squared' is deprecated in version 1.4 and will be removed in 1.6. To calculate the root mean squared error, use the function'root_mean_squared_error'.\n",
      "  warnings.warn(\n"
     ]
    }
   ],
   "source": [
    "rmse_0 = train_and_evaluate(train_0, val_0)\n",
    "rmse_mean = train_and_evaluate(train_mean, val_mean)\n"
   ]
  },
  {
   "cell_type": "code",
   "execution_count": 52,
   "id": "0d171c2c",
   "metadata": {},
   "outputs": [
    {
     "data": {
      "text/plain": [
       "(np.float64(0.52), np.float64(0.46))"
      ]
     },
     "execution_count": 52,
     "metadata": {},
     "output_type": "execute_result"
    }
   ],
   "source": [
    "(round(rmse_0, 2), round(rmse_mean, 2))"
   ]
  },
  {
   "cell_type": "code",
   "execution_count": 53,
   "id": "867ecaa4",
   "metadata": {},
   "outputs": [],
   "source": [
    "from sklearn.linear_model import Ridge\n"
   ]
  },
  {
   "cell_type": "code",
   "execution_count": 54,
   "id": "c4eee991",
   "metadata": {},
   "outputs": [],
   "source": [
    "def rmse(y, y_pred):\n",
    "    se = (y - y_pred) ** 2\n",
    "    mse = se.mean()\n",
    "    return np.sqrt(mse)"
   ]
  },
  {
   "cell_type": "code",
   "execution_count": 55,
   "id": "fef0d8bb",
   "metadata": {},
   "outputs": [],
   "source": [
    "df_train_r = df_train.fillna(0)\n",
    "df_val_r = df_val.fillna(0)"
   ]
  },
  {
   "cell_type": "code",
   "execution_count": 56,
   "id": "a77f396a",
   "metadata": {},
   "outputs": [],
   "source": [
    "X_train = df_train_r[features]\n",
    "y_train = df_train_r[target]\n",
    "X_val = df_val_r[features]\n",
    "y_val = df_val_r[target]"
   ]
  },
  {
   "cell_type": "code",
   "execution_count": 57,
   "id": "47ec0096",
   "metadata": {},
   "outputs": [],
   "source": [
    "r_values = [0, 0.01, 0.1, 1, 5, 10, 100]\n",
    "rmse_scores = {}"
   ]
  },
  {
   "cell_type": "code",
   "execution_count": 58,
   "id": "c4f4c0ee",
   "metadata": {},
   "outputs": [
    {
     "name": "stdout",
     "output_type": "stream",
     "text": [
      "r=0: RMSE=0.52\n",
      "r=0.01: RMSE=0.52\n",
      "r=0.1: RMSE=0.52\n",
      "r=1: RMSE=0.52\n",
      "r=5: RMSE=0.52\n",
      "r=10: RMSE=0.52\n",
      "r=100: RMSE=0.52\n"
     ]
    },
    {
     "data": {
      "text/plain": [
       "0"
      ]
     },
     "execution_count": 58,
     "metadata": {},
     "output_type": "execute_result"
    }
   ],
   "source": [
    "for r in r_values:\n",
    "    model = Ridge(alpha=r)\n",
    "    model.fit(X_train, y_train)\n",
    "    y_pred = model.predict(X_val)\n",
    "    score = rmse(y_val, y_pred)\n",
    "    rmse_scores[r] = round(score, 2)\n",
    "\n",
    "for r, score in rmse_scores.items():\n",
    "    print(f\"r={r}: RMSE={score}\")\n",
    "\n",
    "best_r = min(rmse_scores, key=lambda x: (rmse_scores[x], x))\n",
    "best_r"
   ]
  },
  {
   "cell_type": "code",
   "execution_count": 62,
   "id": "752e3333",
   "metadata": {},
   "outputs": [],
   "source": [
    "seeds = [0, 1, 2, 3, 4, 5, 6, 7, 8, 9]\n",
    "rmse_list = []\n",
    "for seed in seeds:\n",
    "    idx = np.arange(n)\n",
    "    np.random.seed(seed)\n",
    "    np.random.shuffle(idx)\n",
    "    df_train = data.iloc[idx[:n_train]]\n",
    "    df_val = data.iloc[idx[n_train:n_train + n_val]]\n",
    "    df_train = df_train.fillna(0)\n",
    "    df_val = df_val.fillna(0)\n",
    "    model = Ridge(alpha=0)\n",
    "    X_train = df_train[features]\n",
    "    y_train = df_train[target]\n",
    "    X_val = df_val[features]\n",
    "    y_val = df_val[target]\n",
    "    model.fit(X_train, y_train)\n",
    "    y_pred = model.predict(X_val)\n",
    "    score = rmse(y_val, y_pred)\n",
    "    rmse_list.append(score)\n"
   ]
  },
  {
   "cell_type": "code",
   "execution_count": 63,
   "id": "3628ab99",
   "metadata": {},
   "outputs": [
    {
     "data": {
      "text/plain": [
       "np.float64(0.006989446427777364)"
      ]
     },
     "execution_count": 63,
     "metadata": {},
     "output_type": "execute_result"
    }
   ],
   "source": [
    "std_rmse = np.std(rmse_list)\n",
    "std_rmse"
   ]
  },
  {
   "cell_type": "code",
   "execution_count": 64,
   "id": "81bb3d75",
   "metadata": {},
   "outputs": [
    {
     "data": {
      "text/plain": [
       "np.float64(0.5156132022009574)"
      ]
     },
     "execution_count": 64,
     "metadata": {},
     "output_type": "execute_result"
    }
   ],
   "source": [
    "idx = np.arange(n)\n",
    "np.random.seed(9)\n",
    "np.random.shuffle(idx)\n",
    "\n",
    "df_train = data.iloc[idx[:n_train]].reset_index(drop=True)\n",
    "df_val   = data.iloc[idx[n_train:n_train + n_val]].reset_index(drop=True)\n",
    "df_test  = data.iloc[idx[n_train + n_val:]].reset_index(drop=True)\n",
    "df_full_train = pd.concat([df_train, df_val]).reset_index(drop=True)\n",
    "df_full_train = df_full_train.fillna(0)\n",
    "df_test = df_test.fillna(0)\n",
    "model = Ridge(alpha=0.001)\n",
    "X_train = df_full_train[features]\n",
    "y_train = df_full_train[target]\n",
    "X_test = df_test[features]\n",
    "y_test = df_test[target]\n",
    "model.fit(X_train, y_train)\n",
    "y_pred = model.predict(X_test)\n",
    "rmse(y_test, y_pred)\n"
   ]
  },
  {
   "cell_type": "code",
   "execution_count": null,
   "id": "12d57fb2",
   "metadata": {},
   "outputs": [],
   "source": []
  }
 ],
 "metadata": {
  "kernelspec": {
   "display_name": "Python 3",
   "language": "python",
   "name": "python3"
  },
  "language_info": {
   "codemirror_mode": {
    "name": "ipython",
    "version": 3
   },
   "file_extension": ".py",
   "mimetype": "text/x-python",
   "name": "python",
   "nbconvert_exporter": "python",
   "pygments_lexer": "ipython3",
   "version": "3.12.5"
  }
 },
 "nbformat": 4,
 "nbformat_minor": 5
}
